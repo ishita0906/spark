{
  "nbformat": 4,
  "nbformat_minor": 0,
  "metadata": {
    "colab": {
      "name": "Untitled25.ipynb",
      "provenance": []
    },
    "kernelspec": {
      "name": "python3",
      "display_name": "Python 3"
    },
    "language_info": {
      "name": "python"
    }
  },
  "cells": [
    {
      "cell_type": "code",
      "execution_count": 1,
      "metadata": {
        "id": "SKwqtbBo7B3j"
      },
      "outputs": [],
      "source": [
        "import pandas as pd\n",
        "import numpy as np\n",
        "import matplotlib.pyplot as plt"
      ]
    },
    {
      "cell_type": "code",
      "source": [
        "url='http://bit.ly/w-data'\n",
        "df=pd.read_csv(url)"
      ],
      "metadata": {
        "id": "UH1W5iYc7Ep5"
      },
      "execution_count": 2,
      "outputs": []
    },
    {
      "cell_type": "code",
      "source": [
        "df.head()\n"
      ],
      "metadata": {
        "colab": {
          "base_uri": "https://localhost:8080/",
          "height": 206
        },
        "id": "xSB0dKl_7Er-",
        "outputId": "af64255b-1589-45ba-ef55-33fee724d689"
      },
      "execution_count": 3,
      "outputs": [
        {
          "output_type": "execute_result",
          "data": {
            "text/plain": [
              "   Hours  Scores\n",
              "0    2.5      21\n",
              "1    5.1      47\n",
              "2    3.2      27\n",
              "3    8.5      75\n",
              "4    3.5      30"
            ],
            "text/html": [
              "\n",
              "  <div id=\"df-fb51f63e-5526-4dde-8483-02ed646e995d\">\n",
              "    <div class=\"colab-df-container\">\n",
              "      <div>\n",
              "<style scoped>\n",
              "    .dataframe tbody tr th:only-of-type {\n",
              "        vertical-align: middle;\n",
              "    }\n",
              "\n",
              "    .dataframe tbody tr th {\n",
              "        vertical-align: top;\n",
              "    }\n",
              "\n",
              "    .dataframe thead th {\n",
              "        text-align: right;\n",
              "    }\n",
              "</style>\n",
              "<table border=\"1\" class=\"dataframe\">\n",
              "  <thead>\n",
              "    <tr style=\"text-align: right;\">\n",
              "      <th></th>\n",
              "      <th>Hours</th>\n",
              "      <th>Scores</th>\n",
              "    </tr>\n",
              "  </thead>\n",
              "  <tbody>\n",
              "    <tr>\n",
              "      <th>0</th>\n",
              "      <td>2.5</td>\n",
              "      <td>21</td>\n",
              "    </tr>\n",
              "    <tr>\n",
              "      <th>1</th>\n",
              "      <td>5.1</td>\n",
              "      <td>47</td>\n",
              "    </tr>\n",
              "    <tr>\n",
              "      <th>2</th>\n",
              "      <td>3.2</td>\n",
              "      <td>27</td>\n",
              "    </tr>\n",
              "    <tr>\n",
              "      <th>3</th>\n",
              "      <td>8.5</td>\n",
              "      <td>75</td>\n",
              "    </tr>\n",
              "    <tr>\n",
              "      <th>4</th>\n",
              "      <td>3.5</td>\n",
              "      <td>30</td>\n",
              "    </tr>\n",
              "  </tbody>\n",
              "</table>\n",
              "</div>\n",
              "      <button class=\"colab-df-convert\" onclick=\"convertToInteractive('df-fb51f63e-5526-4dde-8483-02ed646e995d')\"\n",
              "              title=\"Convert this dataframe to an interactive table.\"\n",
              "              style=\"display:none;\">\n",
              "        \n",
              "  <svg xmlns=\"http://www.w3.org/2000/svg\" height=\"24px\"viewBox=\"0 0 24 24\"\n",
              "       width=\"24px\">\n",
              "    <path d=\"M0 0h24v24H0V0z\" fill=\"none\"/>\n",
              "    <path d=\"M18.56 5.44l.94 2.06.94-2.06 2.06-.94-2.06-.94-.94-2.06-.94 2.06-2.06.94zm-11 1L8.5 8.5l.94-2.06 2.06-.94-2.06-.94L8.5 2.5l-.94 2.06-2.06.94zm10 10l.94 2.06.94-2.06 2.06-.94-2.06-.94-.94-2.06-.94 2.06-2.06.94z\"/><path d=\"M17.41 7.96l-1.37-1.37c-.4-.4-.92-.59-1.43-.59-.52 0-1.04.2-1.43.59L10.3 9.45l-7.72 7.72c-.78.78-.78 2.05 0 2.83L4 21.41c.39.39.9.59 1.41.59.51 0 1.02-.2 1.41-.59l7.78-7.78 2.81-2.81c.8-.78.8-2.07 0-2.86zM5.41 20L4 18.59l7.72-7.72 1.47 1.35L5.41 20z\"/>\n",
              "  </svg>\n",
              "      </button>\n",
              "      \n",
              "  <style>\n",
              "    .colab-df-container {\n",
              "      display:flex;\n",
              "      flex-wrap:wrap;\n",
              "      gap: 12px;\n",
              "    }\n",
              "\n",
              "    .colab-df-convert {\n",
              "      background-color: #E8F0FE;\n",
              "      border: none;\n",
              "      border-radius: 50%;\n",
              "      cursor: pointer;\n",
              "      display: none;\n",
              "      fill: #1967D2;\n",
              "      height: 32px;\n",
              "      padding: 0 0 0 0;\n",
              "      width: 32px;\n",
              "    }\n",
              "\n",
              "    .colab-df-convert:hover {\n",
              "      background-color: #E2EBFA;\n",
              "      box-shadow: 0px 1px 2px rgba(60, 64, 67, 0.3), 0px 1px 3px 1px rgba(60, 64, 67, 0.15);\n",
              "      fill: #174EA6;\n",
              "    }\n",
              "\n",
              "    [theme=dark] .colab-df-convert {\n",
              "      background-color: #3B4455;\n",
              "      fill: #D2E3FC;\n",
              "    }\n",
              "\n",
              "    [theme=dark] .colab-df-convert:hover {\n",
              "      background-color: #434B5C;\n",
              "      box-shadow: 0px 1px 3px 1px rgba(0, 0, 0, 0.15);\n",
              "      filter: drop-shadow(0px 1px 2px rgba(0, 0, 0, 0.3));\n",
              "      fill: #FFFFFF;\n",
              "    }\n",
              "  </style>\n",
              "\n",
              "      <script>\n",
              "        const buttonEl =\n",
              "          document.querySelector('#df-fb51f63e-5526-4dde-8483-02ed646e995d button.colab-df-convert');\n",
              "        buttonEl.style.display =\n",
              "          google.colab.kernel.accessAllowed ? 'block' : 'none';\n",
              "\n",
              "        async function convertToInteractive(key) {\n",
              "          const element = document.querySelector('#df-fb51f63e-5526-4dde-8483-02ed646e995d');\n",
              "          const dataTable =\n",
              "            await google.colab.kernel.invokeFunction('convertToInteractive',\n",
              "                                                     [key], {});\n",
              "          if (!dataTable) return;\n",
              "\n",
              "          const docLinkHtml = 'Like what you see? Visit the ' +\n",
              "            '<a target=\"_blank\" href=https://colab.research.google.com/notebooks/data_table.ipynb>data table notebook</a>'\n",
              "            + ' to learn more about interactive tables.';\n",
              "          element.innerHTML = '';\n",
              "          dataTable['output_type'] = 'display_data';\n",
              "          await google.colab.output.renderOutput(dataTable, element);\n",
              "          const docLink = document.createElement('div');\n",
              "          docLink.innerHTML = docLinkHtml;\n",
              "          element.appendChild(docLink);\n",
              "        }\n",
              "      </script>\n",
              "    </div>\n",
              "  </div>\n",
              "  "
            ]
          },
          "metadata": {},
          "execution_count": 3
        }
      ]
    },
    {
      "cell_type": "code",
      "source": [
        "df.isnull()"
        "df.isnull().sum()"
      ],
      "metadata": {
        "colab": {
          "base_uri": "https://localhost:8080/"
        },
        "id": "cI1m8fMR7EvC",
        "outputId": "ee59a5e5-06e2-480f-b991-8e735a038201"
      },
      "execution_count": 4,
      "outputs": [
        {
          "output_type": "execute_result",
          "data": {
            "text/plain": [
              "Hours     0\n",
              "Scores    0\n",
              "dtype: int64"
            ]
          },
          "metadata": {},
          "execution_count": 4
        }
      ]
    },
    {
      "cell_type": "code",
      "source": [
        "df.plot(x='Hours',y='Scores')\n",
        "plt.title('Hours vs scores')\n",
        "plt.xlabel('Hours')\n",
        "plt.ylabel('Scores')\n",
        "plt.show()"
      ],
      "metadata": {
        "colab": {
          "base_uri": "https://localhost:8080/",
          "height": 295
        },
        "id": "ECTAdd1a7Eyu",
        "outputId": "9af84c1d-4889-4ed7-dce4-f02e75746e56"
      },
      "execution_count": 5,
      "outputs": [
        {
          "output_type": "display_data",
          "data": {
            "text/plain": [
              "<Figure size 432x288 with 1 Axes>"
            ],
            "image/png": "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\n"
          },
          "metadata": {
            "needs_background": "light"
          }
        }
      ]
    },
    {
      "cell_type": "code",
      "source": [
        "df.plot(x='Hours', y='Scores', style='o')  \n",
        "plt.title('Hours vs Percentage')  \n",
        "plt.xlabel('Hours Studied')  \n",
        "plt.ylabel('Percentage Score')  \n",
        "plt.show()"
      ],
      "metadata": {
        "colab": {
          "base_uri": "https://localhost:8080/",
          "height": 295
        },
        "id": "5l821e0Y7E1H",
        "outputId": "0fa4c9ee-4ca7-44b0-b81e-0a28968037ae"
      },
      "execution_count": 6,
      "outputs": [
        {
          "output_type": "display_data",
          "data": {
            "text/plain": [
              "<Figure size 432x288 with 1 Axes>"
            ],
            "image/png": "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\n"
          },
          "metadata": {
            "needs_background": "light"
          }
        }
      ]
    },
    {
      "cell_type": "code",
      "source": [
        "x=df[['Hours']]\n",
        "y=df['Scores']"
      ],
      "metadata": {
        "id": "H8jN_WkC7E3F"
      },
      "execution_count": 7,
      "outputs": []
    },
    {
      "cell_type": "code",
      "source": [
        "x.head()"
      ],
      "metadata": {
        "colab": {
          "base_uri": "https://localhost:8080/",
          "height": 206
        },
        "id": "QqLjRFvF7E6O",
        "outputId": "d4ba2250-3a5f-4b74-856e-f404958d4c66"
      },
      "execution_count": 8,
      "outputs": [
        {
          "output_type": "execute_result",
          "data": {
            "text/plain": [
              "   Hours\n",
              "0    2.5\n",
              "1    5.1\n",
              "2    3.2\n",
              "3    8.5\n",
              "4    3.5"
            ],
            "text/html": [
              "\n",
              "  <div id=\"df-31b470f0-ccd1-4d6c-9bc7-4b3ff3bd1dcb\">\n",
              "    <div class=\"colab-df-container\">\n",
              "      <div>\n",
              "<style scoped>\n",
              "    .dataframe tbody tr th:only-of-type {\n",
              "        vertical-align: middle;\n",
              "    }\n",
              "\n",
              "    .dataframe tbody tr th {\n",
              "        vertical-align: top;\n",
              "    }\n",
              "\n",
              "    .dataframe thead th {\n",
              "        text-align: right;\n",
              "    }\n",
              "</style>\n",
              "<table border=\"1\" class=\"dataframe\">\n",
              "  <thead>\n",
              "    <tr style=\"text-align: right;\">\n",
              "      <th></th>\n",
              "      <th>Hours</th>\n",
              "    </tr>\n",
              "  </thead>\n",
              "  <tbody>\n",
              "    <tr>\n",
              "      <th>0</th>\n",
              "      <td>2.5</td>\n",
              "    </tr>\n",
              "    <tr>\n",
              "      <th>1</th>\n",
              "      <td>5.1</td>\n",
              "    </tr>\n",
              "    <tr>\n",
              "      <th>2</th>\n",
              "      <td>3.2</td>\n",
              "    </tr>\n",
              "    <tr>\n",
              "      <th>3</th>\n",
              "      <td>8.5</td>\n",
              "    </tr>\n",
              "    <tr>\n",
              "      <th>4</th>\n",
              "      <td>3.5</td>\n",
              "    </tr>\n",
              "  </tbody>\n",
              "</table>\n",
              "</div>\n",
              "      <button class=\"colab-df-convert\" onclick=\"convertToInteractive('df-31b470f0-ccd1-4d6c-9bc7-4b3ff3bd1dcb')\"\n",
              "              title=\"Convert this dataframe to an interactive table.\"\n",
              "              style=\"display:none;\">\n",
              "        \n",
              "  <svg xmlns=\"http://www.w3.org/2000/svg\" height=\"24px\"viewBox=\"0 0 24 24\"\n",
              "       width=\"24px\">\n",
              "    <path d=\"M0 0h24v24H0V0z\" fill=\"none\"/>\n",
              "    <path d=\"M18.56 5.44l.94 2.06.94-2.06 2.06-.94-2.06-.94-.94-2.06-.94 2.06-2.06.94zm-11 1L8.5 8.5l.94-2.06 2.06-.94-2.06-.94L8.5 2.5l-.94 2.06-2.06.94zm10 10l.94 2.06.94-2.06 2.06-.94-2.06-.94-.94-2.06-.94 2.06-2.06.94z\"/><path d=\"M17.41 7.96l-1.37-1.37c-.4-.4-.92-.59-1.43-.59-.52 0-1.04.2-1.43.59L10.3 9.45l-7.72 7.72c-.78.78-.78 2.05 0 2.83L4 21.41c.39.39.9.59 1.41.59.51 0 1.02-.2 1.41-.59l7.78-7.78 2.81-2.81c.8-.78.8-2.07 0-2.86zM5.41 20L4 18.59l7.72-7.72 1.47 1.35L5.41 20z\"/>\n",
              "  </svg>\n",
              "      </button>\n",
              "      \n",
              "  <style>\n",
              "    .colab-df-container {\n",
              "      display:flex;\n",
              "      flex-wrap:wrap;\n",
              "      gap: 12px;\n",
              "    }\n",
              "\n",
              "    .colab-df-convert {\n",
              "      background-color: #E8F0FE;\n",
              "      border: none;\n",
              "      border-radius: 50%;\n",
              "      cursor: pointer;\n",
              "      display: none;\n",
              "      fill: #1967D2;\n",
              "      height: 32px;\n",
              "      padding: 0 0 0 0;\n",
              "      width: 32px;\n",
              "    }\n",
              "\n",
              "    .colab-df-convert:hover {\n",
              "      background-color: #E2EBFA;\n",
              "      box-shadow: 0px 1px 2px rgba(60, 64, 67, 0.3), 0px 1px 3px 1px rgba(60, 64, 67, 0.15);\n",
              "      fill: #174EA6;\n",
              "    }\n",
              "\n",
              "    [theme=dark] .colab-df-convert {\n",
              "      background-color: #3B4455;\n",
              "      fill: #D2E3FC;\n",
              "    }\n",
              "\n",
              "    [theme=dark] .colab-df-convert:hover {\n",
              "      background-color: #434B5C;\n",
              "      box-shadow: 0px 1px 3px 1px rgba(0, 0, 0, 0.15);\n",
              "      filter: drop-shadow(0px 1px 2px rgba(0, 0, 0, 0.3));\n",
              "      fill: #FFFFFF;\n",
              "    }\n",
              "  </style>\n",
              "\n",
              "      <script>\n",
              "        const buttonEl =\n",
              "          document.querySelector('#df-31b470f0-ccd1-4d6c-9bc7-4b3ff3bd1dcb button.colab-df-convert');\n",
              "        buttonEl.style.display =\n",
              "          google.colab.kernel.accessAllowed ? 'block' : 'none';\n",
              "\n",
              "        async function convertToInteractive(key) {\n",
              "          const element = document.querySelector('#df-31b470f0-ccd1-4d6c-9bc7-4b3ff3bd1dcb');\n",
              "          const dataTable =\n",
              "            await google.colab.kernel.invokeFunction('convertToInteractive',\n",
              "                                                     [key], {});\n",
              "          if (!dataTable) return;\n",
              "\n",
              "          const docLinkHtml = 'Like what you see? Visit the ' +\n",
              "            '<a target=\"_blank\" href=https://colab.research.google.com/notebooks/data_table.ipynb>data table notebook</a>'\n",
              "            + ' to learn more about interactive tables.';\n",
              "          element.innerHTML = '';\n",
              "          dataTable['output_type'] = 'display_data';\n",
              "          await google.colab.output.renderOutput(dataTable, element);\n",
              "          const docLink = document.createElement('div');\n",
              "          docLink.innerHTML = docLinkHtml;\n",
              "          element.appendChild(docLink);\n",
              "        }\n",
              "      </script>\n",
              "    </div>\n",
              "  </div>\n",
              "  "
            ]
          },
          "metadata": {},
          "execution_count": 8
        }
      ]
    },
    {
      "cell_type": "code",
      "source": [
        "y.head()  "
      ],
      "metadata": {
        "colab": {
          "base_uri": "https://localhost:8080/"
        },
        "id": "IB9f0OBt7XeG",
        "outputId": "6ffa8284-cbd1-483d-f777-1aadbbb68aa2"
      },
      "execution_count": 9,
      "outputs": [
        {
          "output_type": "execute_result",
          "data": {
            "text/plain": [
              "0    21\n",
              "1    47\n",
              "2    27\n",
              "3    75\n",
              "4    30\n",
              "Name: Scores, dtype: int64"
            ]
          },
          "metadata": {},
          "execution_count": 9
        }
      ]
    },
    {
      "cell_type": "code",
      "source": [
        "from sklearn.linear_model import LinearRegression  \n",
        "lr = LinearRegression()  \n",
        "lr.fit(x,y) "
      ],
      "metadata": {
        "colab": {
          "base_uri": "https://localhost:8080/"
        },
        "id": "rhH76aur7Xgy",
        "outputId": "b066cf5b-b39d-49a4-c176-20d5430d04ed"
      },
      "execution_count": 10,
      "outputs": [
        {
          "output_type": "execute_result",
          "data": {
            "text/plain": [
              "LinearRegression()"
            ]
          },
          "metadata": {},
          "execution_count": 10
        }
      ]
    },
    {
      "cell_type": "code",
      "source": [
        "line = lr.coef_*x+lr.intercept_\n",
        "\n",
        "# Plotting for the test data\n",
        "plt.scatter(x, y)\n",
        "plt.plot(x, line);\n",
        "plt.show()"
      ],
      "metadata": {
        "colab": {
          "base_uri": "https://localhost:8080/",
          "height": 265
        },
        "id": "z8OxCrry7Xn3",
        "outputId": "5153232f-2145-453f-ca37-4efc249a02b3"
      },
      "execution_count": 11,
      "outputs": [
        {
          "output_type": "display_data",
          "data": {
            "text/plain": [
              "<Figure size 432x288 with 1 Axes>"
            ],
            "image/png": "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\n"
          },
          "metadata": {
            "needs_background": "light"
          }
        }
      ]
    },
    {
      "cell_type": "code",
      "source": [
        "ypred_m1=lr.predict(x)\n",
        "ypred_m1"
      ],
      "metadata": {
        "colab": {
          "base_uri": "https://localhost:8080/"
        },
        "id": "u_IZdNhR7Xsw",
        "outputId": "2322f05d-5d0b-4a89-9b5f-9db09b5d4631"
      },
      "execution_count": 12,
      "outputs": [
        {
          "output_type": "execute_result",
          "data": {
            "text/plain": [
              "array([26.92318188, 52.3402707 , 33.76624426, 85.57800223, 36.69898527,\n",
              "       17.14737849, 92.4210646 , 56.25059205, 83.62284155, 28.87834256,\n",
              "       77.75735951, 60.16091341, 46.47478866, 34.74382459, 13.23705714,\n",
              "       89.48832358, 26.92318188, 21.05769985, 62.11607409, 74.8246185 ,\n",
              "       28.87834256, 49.40752968, 39.63172629, 69.9367168 , 78.73493985])"
            ]
          },
          "metadata": {},
          "execution_count": 12
        }
      ]
    },
    {
      "cell_type": "code",
      "source": [
        "df['Scores predicted']=ypred_m1\n",
        "df.head()"
      ],
      "metadata": {
        "colab": {
          "base_uri": "https://localhost:8080/",
          "height": 206
        },
        "id": "ZN7PecFX7Xy6",
        "outputId": "d38fe3a3-0fa2-46b1-c003-0a9f5c040616"
      },
      "execution_count": 13,
      "outputs": [
        {
          "output_type": "execute_result",
          "data": {
            "text/plain": [
              "   Hours  Scores  Scores predicted\n",
              "0    2.5      21         26.923182\n",
              "1    5.1      47         52.340271\n",
              "2    3.2      27         33.766244\n",
              "3    8.5      75         85.578002\n",
              "4    3.5      30         36.698985"
            ],
            "text/html": [
              "\n",
              "  <div id=\"df-24bef554-8bbe-43b7-9091-db709f6e449c\">\n",
              "    <div class=\"colab-df-container\">\n",
              "      <div>\n",
              "<style scoped>\n",
              "    .dataframe tbody tr th:only-of-type {\n",
              "        vertical-align: middle;\n",
              "    }\n",
              "\n",
              "    .dataframe tbody tr th {\n",
              "        vertical-align: top;\n",
              "    }\n",
              "\n",
              "    .dataframe thead th {\n",
              "        text-align: right;\n",
              "    }\n",
              "</style>\n",
              "<table border=\"1\" class=\"dataframe\">\n",
              "  <thead>\n",
              "    <tr style=\"text-align: right;\">\n",
              "      <th></th>\n",
              "      <th>Hours</th>\n",
              "      <th>Scores</th>\n",
              "      <th>Scores predicted</th>\n",
              "    </tr>\n",
              "  </thead>\n",
              "  <tbody>\n",
              "    <tr>\n",
              "      <th>0</th>\n",
              "      <td>2.5</td>\n",
              "      <td>21</td>\n",
              "      <td>26.923182</td>\n",
              "    </tr>\n",
              "    <tr>\n",
              "      <th>1</th>\n",
              "      <td>5.1</td>\n",
              "      <td>47</td>\n",
              "      <td>52.340271</td>\n",
              "    </tr>\n",
              "    <tr>\n",
              "      <th>2</th>\n",
              "      <td>3.2</td>\n",
              "      <td>27</td>\n",
              "      <td>33.766244</td>\n",
              "    </tr>\n",
              "    <tr>\n",
              "      <th>3</th>\n",
              "      <td>8.5</td>\n",
              "      <td>75</td>\n",
              "      <td>85.578002</td>\n",
              "    </tr>\n",
              "    <tr>\n",
              "      <th>4</th>\n",
              "      <td>3.5</td>\n",
              "      <td>30</td>\n",
              "      <td>36.698985</td>\n",
              "    </tr>\n",
              "  </tbody>\n",
              "</table>\n",
              "</div>\n",
              "      <button class=\"colab-df-convert\" onclick=\"convertToInteractive('df-24bef554-8bbe-43b7-9091-db709f6e449c')\"\n",
              "              title=\"Convert this dataframe to an interactive table.\"\n",
              "              style=\"display:none;\">\n",
              "        \n",
              "  <svg xmlns=\"http://www.w3.org/2000/svg\" height=\"24px\"viewBox=\"0 0 24 24\"\n",
              "       width=\"24px\">\n",
              "    <path d=\"M0 0h24v24H0V0z\" fill=\"none\"/>\n",
              "    <path d=\"M18.56 5.44l.94 2.06.94-2.06 2.06-.94-2.06-.94-.94-2.06-.94 2.06-2.06.94zm-11 1L8.5 8.5l.94-2.06 2.06-.94-2.06-.94L8.5 2.5l-.94 2.06-2.06.94zm10 10l.94 2.06.94-2.06 2.06-.94-2.06-.94-.94-2.06-.94 2.06-2.06.94z\"/><path d=\"M17.41 7.96l-1.37-1.37c-.4-.4-.92-.59-1.43-.59-.52 0-1.04.2-1.43.59L10.3 9.45l-7.72 7.72c-.78.78-.78 2.05 0 2.83L4 21.41c.39.39.9.59 1.41.59.51 0 1.02-.2 1.41-.59l7.78-7.78 2.81-2.81c.8-.78.8-2.07 0-2.86zM5.41 20L4 18.59l7.72-7.72 1.47 1.35L5.41 20z\"/>\n",
              "  </svg>\n",
              "      </button>\n",
              "      \n",
              "  <style>\n",
              "    .colab-df-container {\n",
              "      display:flex;\n",
              "      flex-wrap:wrap;\n",
              "      gap: 12px;\n",
              "    }\n",
              "\n",
              "    .colab-df-convert {\n",
              "      background-color: #E8F0FE;\n",
              "      border: none;\n",
              "      border-radius: 50%;\n",
              "      cursor: pointer;\n",
              "      display: none;\n",
              "      fill: #1967D2;\n",
              "      height: 32px;\n",
              "      padding: 0 0 0 0;\n",
              "      width: 32px;\n",
              "    }\n",
              "\n",
              "    .colab-df-convert:hover {\n",
              "      background-color: #E2EBFA;\n",
              "      box-shadow: 0px 1px 2px rgba(60, 64, 67, 0.3), 0px 1px 3px 1px rgba(60, 64, 67, 0.15);\n",
              "      fill: #174EA6;\n",
              "    }\n",
              "\n",
              "    [theme=dark] .colab-df-convert {\n",
              "      background-color: #3B4455;\n",
              "      fill: #D2E3FC;\n",
              "    }\n",
              "\n",
              "    [theme=dark] .colab-df-convert:hover {\n",
              "      background-color: #434B5C;\n",
              "      box-shadow: 0px 1px 3px 1px rgba(0, 0, 0, 0.15);\n",
              "      filter: drop-shadow(0px 1px 2px rgba(0, 0, 0, 0.3));\n",
              "      fill: #FFFFFF;\n",
              "    }\n",
              "  </style>\n",
              "\n",
              "      <script>\n",
              "        const buttonEl =\n",
              "          document.querySelector('#df-24bef554-8bbe-43b7-9091-db709f6e449c button.colab-df-convert');\n",
              "        buttonEl.style.display =\n",
              "          google.colab.kernel.accessAllowed ? 'block' : 'none';\n",
              "\n",
              "        async function convertToInteractive(key) {\n",
              "          const element = document.querySelector('#df-24bef554-8bbe-43b7-9091-db709f6e449c');\n",
              "          const dataTable =\n",
              "            await google.colab.kernel.invokeFunction('convertToInteractive',\n",
              "                                                     [key], {});\n",
              "          if (!dataTable) return;\n",
              "\n",
              "          const docLinkHtml = 'Like what you see? Visit the ' +\n",
              "            '<a target=\"_blank\" href=https://colab.research.google.com/notebooks/data_table.ipynb>data table notebook</a>'\n",
              "            + ' to learn more about interactive tables.';\n",
              "          element.innerHTML = '';\n",
              "          dataTable['output_type'] = 'display_data';\n",
              "          await google.colab.output.renderOutput(dataTable, element);\n",
              "          const docLink = document.createElement('div');\n",
              "          docLink.innerHTML = docLinkHtml;\n",
              "          element.appendChild(docLink);\n",
              "        }\n",
              "      </script>\n",
              "    </div>\n",
              "  </div>\n",
              "  "
            ]
          },
          "metadata": {},
          "execution_count": 13
        }
      ]
    },
    {
      "cell_type": "code",
      "source": [
        "m=lr.coef_\n",
        "c=lr.intercept_\n",
        "print('Slope: ',m)\n",
        "print('Intercept: ',c)"
      ],
      "metadata": {
        "colab": {
          "base_uri": "https://localhost:8080/"
        },
        "id": "mnJCZsBZ7X1Y",
        "outputId": "089b9003-c0b4-451a-fde6-920b9739e42c"
      },
      "execution_count": 14,
      "outputs": [
        {
          "output_type": "stream",
          "name": "stdout",
          "text": [
            "m:  [9.77580339]\n",
            "c:  2.48367340537321\n"
          ]
        }
      ]
    },
    {
      "cell_type": "code",
      "source": [
        "# 2 hours\n",
        "x=2\n",
        "y_pred=m*x+c\n",
        "y_pred"
      ],
      "metadata": {
        "colab": {
          "base_uri": "https://localhost:8080/"
        },
        "id": "xK4_zDhF7X6a",
        "outputId": "744d0f36-9628-4691-8bcd-62ceeaaa0be0"
      },
      "execution_count": 15,
      "outputs": [
        {
          "output_type": "execute_result",
          "data": {
            "text/plain": [
              "array([22.03528019])"
            ]
          },
          "metadata": {},
          "execution_count": 15
        }
      ]
    },
    {
      "cell_type": "code",
      "source": [
        "from sklearn.metrics import mean_squared_error,mean_absolute_error"
      ],
      "metadata": {
        "id": "kBaQCmX97ogE"
      },
      "execution_count": 16,
      "outputs": []
    },
    {
      "cell_type": "code",
      "source": [
        "mse=mean_squared_error(y,ypred_m1)\n",
        "mae=mean_absolute_error(y,ypred_m1)\n",
        "print('Mean Squared Error: ',mse)\n",
        "print('Mean Absolute Error: ',mae)"
      ],
      "metadata": {
        "colab": {
          "base_uri": "https://localhost:8080/"
        },
        "id": "IW1_xqq07oon",
        "outputId": "c6c02cf2-3785-49c3-bba8-0656b10fe7ba"
      },
      "execution_count": 17,
      "outputs": [
        {
          "output_type": "stream",
          "name": "stdout",
          "text": [
            "mean squared error:  28.882730509245466\n",
            "mean absolute error:  4.972805319866375\n"
          ]
        }
      ]
    }
  ]
}
